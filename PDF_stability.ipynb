{
 "cells": [
  {
   "cell_type": "markdown",
   "id": "9180ba13",
   "metadata": {},
   "source": [
    "# get Na halides crystal info"
   ]
  },
  {
   "cell_type": "code",
   "execution_count": 31,
   "id": "2cf1ecb2",
   "metadata": {},
   "outputs": [],
   "source": [
    "\n",
    "from mp_api.client import MPRester\n",
    "import pymatgen\n",
    "import pandas as pd\n",
    "import json\n",
    "import os\n",
    "import requests\n",
    "import numpy as np   \n",
    "from pymatgen.core.structure import Structure    \n",
    "from pymatgen.io.cif import CifWriter\n",
    "import torch\n",
    "#from torch_geometric.data import Data\n",
    "from torch.utils.data import DataLoader\n",
    "# convert data to pandas data\n",
    "# frame and store it in .csv file\n",
    "# unit_cell_formula.Li可以只得到unit_cell_formula字典中Li对应的学习\n",
    "\n"
   ]
  },
  {
   "cell_type": "code",
   "execution_count": 33,
   "id": "a6f60263",
   "metadata": {},
   "outputs": [
    {
     "name": "stderr",
     "output_type": "stream",
     "text": [
      "c:\\Users\\nxldz\\anaconda3\\envs\\DL4MS\\lib\\site-packages\\mp_api\\client\\mprester.py:182: UserWarning: mpcontribs-client not installed. Install the package to query MPContribs data, or construct pourbaix diagrams: 'pip install mpcontribs-client'\n",
      "  warnings.warn(\n"
     ]
    },
    {
     "data": {
      "application/vnd.jupyter.widget-view+json": {
       "model_id": "58f9285e594745019efa21bb46c09e31",
       "version_major": 2,
       "version_minor": 0
      },
      "text/plain": [
       "Retrieving SummaryDoc documents:   0%|          | 0/965 [00:00<?, ?it/s]"
      ]
     },
     "metadata": {},
     "output_type": "display_data"
    },
    {
     "data": {
      "application/vnd.jupyter.widget-view+json": {
       "model_id": "ef64ad926af441ce82efc4c0c0ce83a6",
       "version_major": 2,
       "version_minor": 0
      },
      "text/plain": [
       "Retrieving SummaryDoc documents:   0%|          | 0/70 [00:00<?, ?it/s]"
      ]
     },
     "metadata": {},
     "output_type": "display_data"
    },
    {
     "data": {
      "application/vnd.jupyter.widget-view+json": {
       "model_id": "5fc863fe2c2d440cb499ea8ec8ba1cb5",
       "version_major": 2,
       "version_minor": 0
      },
      "text/plain": [
       "Retrieving SummaryDoc documents:   0%|          | 0/55 [00:00<?, ?it/s]"
      ]
     },
     "metadata": {},
     "output_type": "display_data"
    },
    {
     "data": {
      "application/vnd.jupyter.widget-view+json": {
       "model_id": "3949c18c994745c9a19b361ed67f41e5",
       "version_major": 2,
       "version_minor": 0
      },
      "text/plain": [
       "Retrieving SummaryDoc documents:   0%|          | 0/37 [00:00<?, ?it/s]"
      ]
     },
     "metadata": {},
     "output_type": "display_data"
    }
   ],
   "source": [
    "m = MPRester('YOUR KEY')\n",
    "\n",
    "anion=[\"F\",\"Cl\",\"Br\",\"I\"]\n",
    "data_s=[]\n",
    "for halide in anion:\n",
    "    data_s = m.summary.search(elements=[\"Li\",halide],num_elements=3,\n",
    "                             \n",
    "                              fields=[\"structure\",\"material_id\",\"formula_pretty\",\"is_stable\"] \n",
    "                                      )+data_s"
   ]
  },
  {
   "cell_type": "code",
   "execution_count": 34,
   "id": "cbdb1e6f",
   "metadata": {},
   "outputs": [],
   "source": [
    "def pdf(crystal,cutoff=40):\n",
    "    pair_info=[]\n",
    "    pair_info_length=[]\n",
    "    all_atoms=crystal.atomic_numbers\n",
    "\n",
    "    all_nbrs = crystal.get_all_neighbors(cutoff, include_index=True)\n",
    "    all_nbrs = [sorted(nbrs, key=lambda x: x[1]) for nbrs in all_nbrs]\n",
    "    element_onehot = np.eye(112, 112)\n",
    "\n",
    "\n",
    "    for i in range(len(all_atoms)):\n",
    "        for n in range(i,len(all_atoms)):\n",
    "            node=np.concatenate([element_onehot[all_atoms[i]],element_onehot[all_atoms[n]]],axis=0)\n",
    "            #print('node:',len(node))\n",
    "            distance = [round(1/nbr[1],5)  for nbr in all_nbrs[i] if nbr.index==n]\n",
    "            distance=list(set(distance))\n",
    "            if len(distance)>=100:\n",
    "                distance_new=distance[:100]\n",
    "            #only save the shorest 100 distances\n",
    "            else:\n",
    "                distance_new=np.pad(distance,( (0,100-len(distance))), mode='constant', constant_values=0)\n",
    "            #if distance numbers are less than 100, padding 0 to the rest\n",
    "\n",
    "            pair_info_=np.concatenate([node,distance_new],axis=0)\n",
    "\n",
    "            pair_info.append(pair_info_)\n",
    "            pair_info_length.append(pair_info_.shape[0])\n",
    "\n",
    "\n",
    "    pair_info_new=np.array([np.pad(pair_info_,( (0,max(pair_info_length)-len(pair_info_))), mode='constant', constant_values=0) for pair_info_ in pair_info])\n",
    "\n",
    "\n",
    "\n",
    "\n",
    "\n",
    "    return  pair_info_new "
   ]
  },
  {
   "cell_type": "code",
   "execution_count": 35,
   "id": "10259189",
   "metadata": {},
   "outputs": [
    {
     "name": "stdout",
     "output_type": "stream",
     "text": [
      "100\n",
      "200\n",
      "300\n",
      "400\n",
      "500\n"
     ]
    }
   ],
   "source": [
    "mat_id,fea,label=[],[],[]\n",
    "node_num=[]\n",
    "\n",
    "for data in data_s:\n",
    "    \n",
    "    structure=data.structure\n",
    "    if len(structure.atomic_numbers)<=20:\n",
    "      #only atom number is less than 20, the crystal will be counted in case of out of memory\n",
    "      x=pdf(structure,20)\n",
    "      mat_id.append(data.material_id)\n",
    "    \n",
    "    \n",
    "      node_num.append(len(x))\n",
    "      fea.append(x)\n",
    "      \n",
    "      \n",
    "      if data.is_stable==1:\n",
    "          label.append([1])\n",
    "      else:\n",
    "          label.append([0])\n",
    "    \n",
    "      if len(label)%100==0:\n",
    "        print(len(label))\n",
    "\n",
    "\n"
   ]
  },
  {
   "cell_type": "code",
   "execution_count": 36,
   "id": "2aee33f0",
   "metadata": {},
   "outputs": [],
   "source": [
    "def convert_to_list(value):\n",
    "    if isinstance(value, np.ndarray):\n",
    "        return value.tolist()\n",
    "    elif isinstance(value, list):\n",
    "        return [convert_to_list(item) for item in value]\n",
    "    else:\n",
    "        return value"
   ]
  },
  {
   "cell_type": "code",
   "execution_count": 37,
   "id": "e20d3d97",
   "metadata": {},
   "outputs": [],
   "source": [
    "import json\n",
    "\n",
    "\n",
    "\n",
    "my_dict = {\n",
    "    'mp_id': mat_id,\n",
    "    'fea': convert_to_list(fea),\n",
    "    'stability': label\n",
    "}\n",
    "\n",
    "\n",
    "file_name = \"Li_Na_halide_data_stable.json\"\n",
    "\n",
    "with open(file_name, 'w') as json_file:\n",
    "    json.dump(my_dict, json_file)\n",
    "#you can also save data in json for next use"
   ]
  },
  {
   "cell_type": "code",
   "execution_count": 38,
   "id": "d8d274d1",
   "metadata": {},
   "outputs": [],
   "source": [
    "from sklearn.model_selection import train_test_split\n",
    "def split(x,y,n):\n",
    "    x_train,x_test,y_train,y_test=train_test_split(x,y,test_size=n,random_state=0)    \n",
    "    return x_train,x_test,y_train,y_test\n",
    "x_train,x_test,y_train,y_test=split(fea,label,0.3)\n"
   ]
  },
  {
   "cell_type": "markdown",
   "id": "abb3b550",
   "metadata": {},
   "source": [
    "# generate dataset"
   ]
  },
  {
   "cell_type": "code",
   "execution_count": 39,
   "id": "32bbb9e0",
   "metadata": {},
   "outputs": [
    {
     "name": "stdout",
     "output_type": "stream",
     "text": [
      "Train Batch Data: torch.Size([20, 210, 324])\n",
      "Train Batch Data: torch.Size([20, 210, 324])\n",
      "Train Batch Data: torch.Size([20, 210, 324])\n",
      "Train Batch Data: torch.Size([20, 210, 324])\n",
      "Train Batch Data: torch.Size([20, 210, 324])\n",
      "Train Batch Data: torch.Size([20, 210, 324])\n",
      "Train Batch Data: torch.Size([20, 210, 324])\n",
      "Train Batch Data: torch.Size([20, 210, 324])\n",
      "Train Batch Data: torch.Size([20, 210, 324])\n",
      "Train Batch Data: torch.Size([20, 210, 324])\n",
      "Train Batch Data: torch.Size([20, 210, 324])\n",
      "Train Batch Data: torch.Size([20, 210, 324])\n",
      "Train Batch Data: torch.Size([20, 210, 324])\n",
      "Train Batch Data: torch.Size([20, 210, 324])\n",
      "Train Batch Data: torch.Size([20, 210, 324])\n",
      "Train Batch Data: torch.Size([20, 210, 324])\n",
      "Train Batch Data: torch.Size([20, 210, 324])\n",
      "Train Batch Data: torch.Size([20, 210, 324])\n",
      "Train Batch Data: torch.Size([20, 210, 324])\n",
      "Train Batch Data: torch.Size([20, 210, 324])\n",
      "Train Batch Data: torch.Size([13, 136, 324])\n"
     ]
    }
   ],
   "source": [
    "import torch\n",
    "from torch.utils.data import Dataset, DataLoader\n",
    "from torch.nn.utils.rnn import pad_sequence\n",
    "\n",
    "class VariableLengthDataset(Dataset):\n",
    "    def __init__(self, data_list, labels):\n",
    "        self.data_list = data_list\n",
    "        self.labels = labels\n",
    "\n",
    "    def __len__(self):\n",
    "        return len(self.data_list)\n",
    "\n",
    "    def __getitem__(self, index):\n",
    "        data = torch.tensor(self.data_list[index], dtype=torch.float32)\n",
    "        label = torch.tensor(self.labels[index], dtype=torch.long)\n",
    "        return data, label\n",
    "\n",
    "def collate_fn(batch):\n",
    "    # Custom collate function to handle variable-length sequences\n",
    "    data, labels = zip(*batch)\n",
    "\n",
    "    # Pad sequences to the maximum length in the batch\n",
    "    padded_data = pad_sequence(data, batch_first=True, padding_value=0)\n",
    "\n",
    "    return padded_data, torch.tensor(labels, dtype=torch.long)\n",
    "\n",
    "custom_dataset = VariableLengthDataset(x_train, y_train)\n",
    "\n",
    "batch_size = 20\n",
    "dataloader = DataLoader(custom_dataset, batch_size=batch_size, collate_fn=collate_fn)\n",
    "\n",
    "for batch_data, batch_labels in dataloader:\n",
    "    # Your training or evaluation logic here\n",
    "    print(\"Train Batch Data:\", batch_data.shape)\n",
    "    #print(\"Train Batch Labels:\", batch_labels)\n"
   ]
  },
  {
   "cell_type": "code",
   "execution_count": 40,
   "id": "5edcd43c",
   "metadata": {},
   "outputs": [
    {
     "name": "stdout",
     "output_type": "stream",
     "text": [
      "Test Batch Data: torch.Size([20, 210, 324])\n",
      "Test Batch Data: torch.Size([20, 210, 324])\n",
      "Test Batch Data: torch.Size([20, 210, 324])\n",
      "Test Batch Data: torch.Size([20, 210, 324])\n",
      "Test Batch Data: torch.Size([20, 210, 324])\n",
      "Test Batch Data: torch.Size([20, 210, 324])\n",
      "Test Batch Data: torch.Size([20, 210, 324])\n",
      "Test Batch Data: torch.Size([20, 210, 324])\n",
      "Test Batch Data: torch.Size([17, 210, 324])\n"
     ]
    }
   ],
   "source": [
    "\n",
    "custom_dataset_test = VariableLengthDataset(x_test, y_test)\n",
    "\n",
    "batch_size = 20\n",
    "dataloader_test = DataLoader(custom_dataset_test, batch_size=batch_size, collate_fn=collate_fn)\n",
    "\n",
    "for batch_data, batch_labels in dataloader_test:\n",
    "    # Your training or evaluation logic here\n",
    "    print(\"Test Batch Data:\", batch_data.shape)\n",
    "    #print(\"Test Batch Labels:\", batch_labels)\n"
   ]
  },
  {
   "cell_type": "code",
   "execution_count": 47,
   "id": "be5cb33d",
   "metadata": {},
   "outputs": [
    {
     "name": "stdout",
     "output_type": "stream",
     "text": [
      "Epoch [10/200], Loss: 0.1907\n",
      "Epoch [10/200], Accurancy: 1.0\n",
      "Epoch [20/200], Loss: 0.1148\n",
      "Epoch [20/200], Accurancy: 1.0\n",
      "Epoch [30/200], Loss: 0.1158\n",
      "Epoch [30/200], Accurancy: 1.0\n",
      "Epoch [40/200], Loss: 0.0898\n",
      "Epoch [40/200], Accurancy: 1.0\n",
      "Epoch [50/200], Loss: 0.0661\n",
      "Epoch [50/200], Accurancy: 1.0\n",
      "Epoch [60/200], Loss: 0.0483\n",
      "Epoch [60/200], Accurancy: 1.0\n",
      "Epoch [70/200], Loss: 0.0389\n",
      "Epoch [70/200], Accurancy: 1.0\n",
      "Epoch [80/200], Loss: 0.0267\n",
      "Epoch [80/200], Accurancy: 1.0\n",
      "Epoch [90/200], Loss: 0.0231\n",
      "Epoch [90/200], Accurancy: 1.0\n",
      "Epoch [100/200], Loss: 0.0170\n",
      "Epoch [100/200], Accurancy: 1.0\n",
      "Epoch [110/200], Loss: 0.0076\n",
      "Epoch [110/200], Accurancy: 1.0\n",
      "Epoch [120/200], Loss: 0.0051\n",
      "Epoch [120/200], Accurancy: 1.0\n",
      "Epoch [130/200], Loss: 0.0049\n",
      "Epoch [130/200], Accurancy: 1.0\n",
      "Epoch [140/200], Loss: 0.0032\n",
      "Epoch [140/200], Accurancy: 1.0\n",
      "Epoch [150/200], Loss: 0.0026\n",
      "Epoch [150/200], Accurancy: 1.0\n",
      "Epoch [160/200], Loss: 0.0014\n",
      "Epoch [160/200], Accurancy: 1.0\n",
      "Epoch [170/200], Loss: 0.0014\n",
      "Epoch [170/200], Accurancy: 1.0\n",
      "Epoch [180/200], Loss: 0.0012\n",
      "Epoch [180/200], Accurancy: 1.0\n",
      "Epoch [190/200], Loss: 0.0008\n",
      "Epoch [190/200], Accurancy: 1.0\n",
      "Epoch [200/200], Loss: 0.0006\n",
      "Epoch [200/200], Accurancy: 1.0\n"
     ]
    }
   ],
   "source": [
    "import torch\n",
    "import torch.nn as nn\n",
    "import torch.optim as optim\n",
    "from torch.utils.data import DataLoader\n",
    "from torch.nn.utils.rnn import pad_sequence\n",
    "\n",
    "class SimpleCNN(nn.Module):\n",
    "    def __init__(self):\n",
    "        super(SimpleCNN, self).__init__()\n",
    "        self.linear1 = nn.Linear(324, 128)\n",
    "        self.relu = nn.ReLU()\n",
    "        self.linear2 = nn.Linear(128, 1)\n",
    "        self.sigmoid = nn.Sigmoid()\n",
    "        \n",
    "\n",
    "    def forward(self, x):\n",
    "        x = self.linear1(x)\n",
    "        x = self.relu(x)\n",
    "        x = self.linear2(x)\n",
    "       \n",
    "        x=torch.sum(x,dim=1)\n",
    "        \n",
    "        x = self.sigmoid(x)\n",
    "        return x\n",
    "\n",
    "\n",
    "# Initialize model, loss, and optimizer\n",
    "model = SimpleCNN()\n",
    "criterion = nn.BCELoss()\n",
    "optimizer = optim.Adam(model.parameters(), lr=0.001)\n",
    "all_losses=[]\n",
    "# Training loop\n",
    "num_epochs = 200\n",
    "\n",
    "for epoch in range(num_epochs):\n",
    "    for batch_data, batch_labels in dataloader:\n",
    "        batch_loss=[]\n",
    "        optimizer.zero_grad()\n",
    "        outputs = model(batch_data)  # Add channel dimension\n",
    "        #_, predicted = torch.max(outputs, 1)\n",
    "        #print(outputs)\n",
    "        #print(batch_labels)\n",
    "        loss = criterion(outputs.to(dtype=float), batch_labels.view(-1,1).to(dtype=float))\n",
    "        binary_predictions = (outputs >= 0.5).float()\n",
    "        accuracy = torch.sum(binary_predictions == torch.Tensor(batch_labels).view(-1, 1)).item() / len(batch_labels)\n",
    "        loss.backward()\n",
    "        optimizer.step()\n",
    "        batch_loss.append(loss.item())\n",
    "    all_losses.append(sum(batch_loss)/len(batch_loss))\n",
    "    if (epoch+1)%10==0:\n",
    "        print(f'Epoch [{epoch + 1}/{num_epochs}], Loss: {sum(batch_loss)/len(batch_loss):.4f}')\n",
    "        print(f'Epoch [{epoch + 1}/{num_epochs}], Accurancy: {accuracy}')\n",
    "\n",
    "# Now, your model is trained. You can use it for predictions.\n"
   ]
  },
  {
   "cell_type": "code",
   "execution_count": 48,
   "id": "65d8a9f4",
   "metadata": {},
   "outputs": [
    {
     "data": {
      "image/png": "[encoded data removed]",
      "text/plain": [
       "<Figure size 640x480 with 1 Axes>"
      ]
     },
     "metadata": {},
     "output_type": "display_data"
    }
   ],
   "source": [
    "import matplotlib.pyplot as plt\n",
    "#print(all_loss)\n",
    "plt.plot(range(num_epochs), all_losses )\n",
    "plt.xlabel('Epoch')\n",
    "plt.ylabel('Loss')\n",
    "\n",
    "plt.show()"
   ]
  },
  {
   "cell_type": "code",
   "execution_count": 52,
   "id": "bd2a6cab",
   "metadata": {},
   "outputs": [
    {
     "data": {
      "image/png": "[encoded data removed]",
      "text/plain": [
       "<Figure size 640x480 with 1 Axes>"
      ]
     },
     "metadata": {},
     "output_type": "display_data"
    }
   ],
   "source": [
    "import matplotlib.pyplot as plt\n",
    "#print(all_loss)\n",
    "plt.plot(range(num_epochs-5), all_losses[5:] )\n",
    "plt.xlabel('Epoch-5')\n",
    "plt.ylabel('Loss')\n",
    "\n",
    "plt.show()"
   ]
  },
  {
   "cell_type": "code",
   "execution_count": 49,
   "id": "6dbf7cfa",
   "metadata": {},
   "outputs": [
    {
     "name": "stdout",
     "output_type": "stream",
     "text": [
      "  Batch Recall rate: 0.0000\n",
      "Batch Test Accuracy: 0.9500\n",
      "  Batch Recall rate: 0.2500\n",
      "Batch Test Accuracy: 0.8500\n",
      "  Batch Recall rate: 0.0000\n",
      "Batch Test Accuracy: 0.9000\n",
      "  Batch Recall rate: 0.0000\n",
      "Batch Test Accuracy: 0.7500\n",
      "  Batch Recall rate: 1.0000\n",
      "Batch Test Accuracy: 1.0000\n",
      "  Batch Recall rate: 0.5000\n",
      "Batch Test Accuracy: 0.9000\n",
      "  Batch Recall rate: 0.0000\n",
      "Batch Test Accuracy: 0.8000\n",
      "  Batch Recall rate: 0.0000\n",
      "Batch Test Accuracy: 0.8500\n",
      "Batch Test Accuracy: 1.0000\n"
     ]
    }
   ],
   "source": [
    "def test_model(model, dataloader):\n",
    "    with torch.no_grad():\n",
    "        model.eval()\n",
    "\n",
    "        for batch in dataloader:\n",
    "            \n",
    "            batch_data, batch_labels = batch\n",
    "\n",
    "           \n",
    "\n",
    "            \n",
    "            predictions = model(batch_data)\n",
    "            \n",
    "            binary_predictions = (predictions >= 0.5).float()\n",
    "            \n",
    "\n",
    "            #print(binary_predictions.view(1,-1))\n",
    "            #print(batch_labels)\n",
    "         \n",
    "\n",
    "\n",
    "            \n",
    "            accuracy = torch.sum(binary_predictions == torch.Tensor(batch_labels).view(-1, 1)).item() / len(batch_labels)\n",
    "            if (torch.Tensor(batch_labels).view(-1, 1)==1).sum().item()!=0:\n",
    "                \n",
    "                recall_rate= ((binary_predictions == 1) & (torch.Tensor(batch_labels).view(-1, 1)==1)).sum().item() / (torch.Tensor(batch_labels).view(-1, 1)==1).sum().item()\n",
    "                print(f\"  Batch Recall rate: {recall_rate:.4f}\")\n",
    "            print(f\"Batch Test Accuracy: {accuracy:.4f}\")\n",
    "            \n",
    "\n",
    "\n",
    "test_model(model, dataloader_test)"
   ]
  }
 ],
 "metadata": {
  "kernelspec": {
   "display_name": "Python 3 (ipykernel)",
   "language": "python",
   "name": "python3"
  },
  "language_info": {
   "codemirror_mode": {
    "name": "ipython",
    "version": 3
   },
   "file_extension": ".py",
   "mimetype": "text/x-python",
   "name": "python",
   "nbconvert_exporter": "python",
   "pygments_lexer": "ipython3",
   "version": "3.9.0"
  },
  "toc": {
   "base_numbering": 1,
   "nav_menu": {},
   "number_sections": true,
   "sideBar": true,
   "skip_h1_title": false,
   "title_cell": "Table of Contents",
   "title_sidebar": "Contents",
   "toc_cell": false,
   "toc_position": {},
   "toc_section_display": true,
   "toc_window_display": false
  }
 },
 "nbformat": 4,
 "nbformat_minor": 5
}
